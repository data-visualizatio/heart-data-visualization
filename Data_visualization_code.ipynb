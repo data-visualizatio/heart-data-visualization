{
 "cells": [
  {
   "cell_type": "markdown",
   "id": "2955d88c578e4d2d",
   "metadata": {},
   "source": [
    "# the assignment code \n"
   ]
  },
  {
   "cell_type": "code",
   "execution_count": null,
   "id": "2b889727ad54f04b",
   "metadata": {
    "ExecuteTime": {
     "end_time": "2024-04-30T15:22:03.900581Z",
     "start_time": "2024-04-30T15:22:03.609158Z"
    }
   },
   "outputs": [],
   "source": [
    "# import necccesary libraries\n",
    "import pandas as pd\n",
    "import matplotlib.pyplot as plt\n",
    "import seaborn as sns \n",
    "\n",
    "# load the assignment dataset\n"
   ]
  },
  {
   "cell_type": "markdown",
   "id": "4624e2ea00c1fb61",
   "metadata": {},
   "source": [
    "# Exploratory Data Analyses "
   ]
  },
  {
   "cell_type": "code",
   "execution_count": null,
   "id": "6ce7b4a17a712c9e",
   "metadata": {
    "jupyter": {
     "is_executing": true
    },
    "scrolled": true
   },
   "outputs": [],
   "source": [
    "data = pd.read_csv(\"heart_statlog_cleveland_hungary_final.csv\")\n",
    "#cleaning up data\n",
    "data.isnull().sum()\n",
    "data\n",
    "data.head()\n",
    "data.info()\n",
    "data.describe() \n"
   ]
  },
  {
   "cell_type": "markdown",
   "id": "527eb75b-b1d3-44e1-8425-006b156d013a",
   "metadata": {},
   "source": [
    "# ploting the visual graph"
   ]
  },
  {
   "cell_type": "code",
   "execution_count": null,
   "id": "a09931ac-d630-4e6e-8273-22f42794d907",
   "metadata": {},
   "outputs": [],
   "source": [
    "plt.figure(figsize=(6,4))\n",
    "sns.countplot(x='sex', data=data)\n",
    "plt.title('Sex Distribution')\n",
    "plt.xlabel('Sex')\n",
    "plt.ylabel('Count')\n",
    "plt.savefig('Sex Distribution.png')\n",
    "plt.show()\n"
   ]
  },
  {
   "cell_type": "code",
   "execution_count": null,
   "id": "288142d8-0912-4983-ba9f-7bc2f15cc191",
   "metadata": {},
   "outputs": [],
   "source": [
    "plt.figure(figsize=(8,6))\n",
    "sns.countplot(x='chest pain type', data=data)\n",
    "plt.title('Chest Pain Type Distribution')\n",
    "plt.xlabel('Chest Pain Type')\n",
    "plt.savefig('Chest Pain Type Distribution.png')\n",
    "\n",
    "plt.ylabel('Count')\n",
    "\n",
    "plt.show()\n"
   ]
  },
  {
   "cell_type": "code",
   "execution_count": null,
   "id": "4614cfb9-0f09-45e8-9ad1-d8676f5c08b3",
   "metadata": {},
   "outputs": [],
   "source": [
    "plt.figure(figsize=(6,4))\n",
    "sns.countplot(x='exercise angina', data=data)\n",
    "plt.title('Exercise Induced Angina Distribution')\n",
    "plt.xlabel('Exercise Induced Angina')\n",
    "plt.savefig('Exercise Induced Angina Distribution.png')\n",
    "\n",
    "plt.ylabel('Count')\n",
    "plt.show()\n"
   ]
  },
  {
   "cell_type": "code",
   "execution_count": null,
   "id": "2a0ff94850d8d2a4",
   "metadata": {
    "ExecuteTime": {
     "end_time": "2024-04-30T15:22:05.891193Z",
     "start_time": "2024-04-30T15:22:05.587625Z"
    }
   },
   "outputs": [],
   "source": [
    "# getting the age distribution\n",
    "sns.histplot(x = \"age\",  data = data, kde=True, bins = 30)\n",
    "plt.title( \"age distribution in the data set\")\n",
    "plt.savefig(\"age distribution in the data set\")\n",
    "plt.show()"
   ]
  },
  {
   "cell_type": "code",
   "execution_count": null,
   "id": "85c3ce79-c49c-40b5-9540-4792148f9db9",
   "metadata": {},
   "outputs": [],
   "source": [
    "plt.figure(figsize=(6,4))\n",
    "sns.countplot(x='resting ecg', data=data)\n",
    "plt.title('Resting Electrocardiogram Result Distribution')\n",
    "plt.xlabel('Resting Electrocardiogram Result')\n",
    "plt.ylabel('Count')\n",
    "plt.savefig(\"Resting Electrocardiogram Result\")\n",
    "plt.show()\n"
   ]
  },
  {
   "cell_type": "code",
   "execution_count": null,
   "id": "4cd7ebc8-e062-473a-9aa5-7d8028142637",
   "metadata": {},
   "outputs": [],
   "source": [
    "plt.figure(figsize=(10,6))\n",
    "sns.histplot(data['max heart rate'], bins=20, kde=True)\n",
    "plt.title('Maximum Heart Rate Achieved Distribution')\n",
    "plt.xlabel('Maximum Heart Rate Achieved')\n",
    "plt.ylabel('Count')\n",
    "plt.savefig(\"Maximum Heart Rate Achieved\")\n",
    "plt.show()\n"
   ]
  },
  {
   "cell_type": "code",
   "execution_count": null,
   "id": "0c4c056a-169d-48c6-8767-1e084a86fa10",
   "metadata": {},
   "outputs": [],
   "source": [
    "plt.figure(figsize=(6,4))\n",
    "sns.countplot(x='fasting blood sugar', data=data)\n",
    "plt.title('Fasting Blood Sugar Distribution')\n",
    "plt.xlabel('Fasting Blood Sugar')\n",
    "plt.ylabel('Count')\n",
    "plt.savefig(\"Fasting Blood Sugar Distribution\")\n",
    "plt.show()\n"
   ]
  },
  {
   "cell_type": "code",
   "execution_count": null,
   "id": "2f0fd579-c0d6-47d6-94a6-c0f0fa5e7d56",
   "metadata": {},
   "outputs": [],
   "source": [
    "plt.figure(figsize=(10,6))\n",
    "sns.histplot(data['cholesterol'], bins=20, kde=True)\n",
    "plt.title('Serum Cholesterol Distribution')\n",
    "plt.xlabel('Serum Cholesterol')\n",
    "plt.ylabel('Count')\n",
    "plt.savefig(\"Serum Cholesterol Distribution\")\n",
    "plt.show()\n"
   ]
  },
  {
   "cell_type": "code",
   "execution_count": null,
   "id": "95743628-1d00-4688-b6e8-0a4c2507a55a",
   "metadata": {},
   "outputs": [],
   "source": [
    "plt.figure(figsize=(10,6))\n",
    "sns.histplot(data['resting bp s'], bins=20, kde=True)\n",
    "plt.title('Resting Blood Pressure Distribution')\n",
    "plt.xlabel('Resting Blood Pressure')\n",
    "plt.ylabel('Count')\n",
    "plt.savefig(\"Resting Blood Pressure Distribution\")\n",
    "plt.show()\n"
   ]
  },
  {
   "cell_type": "code",
   "execution_count": null,
   "id": "38fa332c-3012-4f2c-861b-595df6fce7dc",
   "metadata": {},
   "outputs": [],
   "source": [
    "sns.scatterplot(data = data, x = \"age\", y = \"max heart rate\", hue = \"chest pain type\", palette = \"coolwarm\" )\n",
    "plt.title( \" distribution of max heart rate of the chest pain types by age \")\n",
    "plt.savefig('distribution of max heart rate of the chest pain types by age.png')\n",
    "plt.show()"
   ]
  },
  {
   "cell_type": "code",
   "execution_count": null,
   "id": "0665fadd-b9d2-4325-a1b4-90bc037a070d",
   "metadata": {},
   "outputs": [],
   "source": []
  },
  {
   "cell_type": "code",
   "execution_count": null,
   "id": "a781d14f-b7a4-403e-bdad-4bfc8a7db5b9",
   "metadata": {},
   "outputs": [],
   "source": [
    "sns.barplot(data = data, x = \"resting ecg\", y = \"cholesterol\" )\n",
    "plt.title( \" A bar plot of cholesterol level to resting ecg\")\n",
    "plt.savefig(\"A bar plot of cholesterol level to resting ecg\")\n",
    "plt.show()"
   ]
  },
  {
   "cell_type": "code",
   "execution_count": null,
   "id": "92b34a38-104e-4b2f-813f-591bc9a6d678",
   "metadata": {},
   "outputs": [],
   "source": [
    "sns.jointplot(data = data, x = \"age\", y = \"max heart rate\", kind = \"kde\", cmap = \"coolwarm\" )\n",
    "plt.savefig(\"a concentration visual of the max heart rate on the age distribution\")\n",
    "plt.show()"
   ]
  },
  {
   "cell_type": "code",
   "execution_count": null,
   "id": "f902f216-c13d-418d-bd6b-d7140c295b0f",
   "metadata": {},
   "outputs": [],
   "source": [
    "# Scatter plot of Age vs. Maximum Heart Rate Achieved\n",
    "plt.figure(figsize=(8, 6))\n",
    "sns.scatterplot(x='age', y='max heart rate', data=data, hue = \"sex\")\n",
    "plt.title('Age vs. Maximum Heart Rate Achieved')\n",
    "plt.xlabel('Age')\n",
    "plt.ylabel('Maximum Heart Rate Achieved')\n",
    "plt.savefig(\"Age vs. Maximum Heart Rate Achieved.png\")\n",
    "plt.show()\n"
   ]
  },
  {
   "cell_type": "code",
   "execution_count": null,
   "id": "c11eeb32-b928-4f12-9a02-64bc45b17ab5",
   "metadata": {},
   "outputs": [],
   "source": [
    "# Pairplot with hue for Sex\n",
    "sns.pairplot(data, hue='sex')\n",
    "plt.savefig(\"Pairplot with hue for Sex\")\n",
    "plt.show()"
   ]
  },
  {
   "cell_type": "code",
   "execution_count": null,
   "id": "05b1545b-33d6-4c0e-bc73-d9d9e5310c41",
   "metadata": {},
   "outputs": [],
   "source": [
    "# Violin plot of Chest Pain Type vs. Resting Blood Pressure\n",
    "plt.figure(figsize=(8, 6))\n",
    "sns.violinplot(x='chest pain type', y='resting bp s', data=data)\n",
    "plt.title('Chest Pain Type vs. Resting Blood Pressure')\n",
    "plt.xlabel('Chest Pain Type')\n",
    "plt.ylabel('Resting Blood Pressure')\n",
    "plt.savefig(\" Violin plot of Chest Pain Type vs. Resting Blood Pressure.png\")\n",
    "plt.show()"
   ]
  },
  {
   "cell_type": "code",
   "execution_count": null,
   "id": "c43ff569-1dd8-48aa-9386-8e0b59fb9bcd",
   "metadata": {},
   "outputs": [],
   "source": [
    "# Boxplot of Sex vs. Serum Cholesterol\n",
    "plt.figure(figsize=(8, 6))\n",
    "sns.boxplot(x='sex', y='cholesterol', data=data)\n",
    "plt.title('Sex vs. Serum Cholesterol')\n",
    "plt.xlabel('Sex') \n",
    "plt.ylabel('Serum Cholesterol')\n",
    "plt.savefig(\"Boxplot of Sex vs. Serum Cholesterol.png\")\n",
    "plt.show()"
   ]
  },
  {
   "cell_type": "code",
   "execution_count": null,
   "id": "574893a4-d158-4d56-a953-c9ffd1bdde1a",
   "metadata": {},
   "outputs": [],
   "source": [
    "plt.figure(figsize=(8, 6))\n",
    "sns.regplot(x='age', y='max heart rate', data=data)\n",
    "plt.title('Age vs. Maximum Heart Rate Achieved')\n",
    "plt.xlabel('Age')\n",
    "plt.ylabel('Maximum Heart Rate Achieved')\n",
    "plt.savefig(\"Scatter plot with Regression Line.png\")\n",
    "plt.show()\n"
   ]
  },
  {
   "cell_type": "code",
   "execution_count": null,
   "id": "12a4f184-0df9-43cc-a648-e0c0f218d62d",
   "metadata": {},
   "outputs": [],
   "source": [
    "plt.figure(figsize=(10, 8))\n",
    "sns.heatmap(data.corr(), annot=True, cmap='coolwarm', fmt=\".2f\")\n",
    "plt.title('Correlation Matrix Heatmap')\n",
    "plt.savefig(\"Correlation Matrix Heatmap\")\n",
    "plt.show()\n"
   ]
  },
  {
   "cell_type": "code",
   "execution_count": null,
   "id": "105abeaa-f61f-4442-b9f1-646c4f8fcee4",
   "metadata": {},
   "outputs": [],
   "source": [
    "sns.pairplot(data, hue='target', diag_kind='kde')\n",
    "plt.savefig(\"Pairplot with Hue for Heart Condition\")\n",
    "plt.show()\n"
   ]
  },
  {
   "cell_type": "code",
   "execution_count": null,
   "id": "b8c61e75-20f4-4da4-ac48-341b8c7a90c8",
   "metadata": {},
   "outputs": [],
   "source": [
    "g = sns.FacetGrid(data, col=\"sex\", hue=\"target\", height=5)\n",
    "g.map(sns.scatterplot, \"age\", \"max heart rate\", alpha=.7)\n",
    "g.add_legend()\n",
    "plt.title(\"FacetGrid for Heart Condition vs. Age and Sex\")\n",
    "plt.savefig(\"FacetGrid for Heart Condition vs. Age and Sex.png\")\n",
    "plt.show()\n"
   ]
  },
  {
   "cell_type": "code",
   "execution_count": null,
   "id": "867ed029-4ac0-4662-b4d7-b75e95292904",
   "metadata": {},
   "outputs": [],
   "source": [
    "plt.figure(figsize=(8, 6))\n",
    "sns.boxplot(x='chest pain type', y='target', data=data)\n",
    "plt.title('Heart Condition vs. Chest Pain Type')\n",
    "plt.xlabel('Chest Pain Type')\n",
    "plt.ylabel('Heart Condition')\n",
    "plt.savefig(\"Heart Condition vs. Chest Pain Type.png\")\n",
    "plt.show()\n"
   ]
  },
  {
   "cell_type": "code",
   "execution_count": null,
   "id": "86cbda57-8029-4ca2-8612-c5df2c3087b6",
   "metadata": {},
   "outputs": [],
   "source": [
    "sns.pairplot(data, kind='reg', diag_kind='kde')\n",
    "plt.title(\"pairplot with regression line\")\n",
    "plt.savefig(\"pairplot with regression line\")\n",
    "plt.show()\n"
   ]
  },
  {
   "cell_type": "code",
   "execution_count": null,
   "id": "f1d428bb-89a3-40e0-b645-046bb67d18b7",
   "metadata": {},
   "outputs": [],
   "source": [
    "sns.jointplot(x='age', y='max heart rate', kind='hex', data=data)\n",
    "\n",
    "plt.savefig(\"jointplot with Hexbin for Age and Maximum Heart Rate Achieved\")\n",
    "plt.show()\n"
   ]
  },
  {
   "cell_type": "code",
   "execution_count": null,
   "id": "19ac8018-f486-4d41-bf9b-fb734789b414",
   "metadata": {},
   "outputs": [],
   "source": [
    "g = sns.FacetGrid(data, col=\"sex\", row=\"chest pain type\", hue=\"target\", height=3)\n",
    "g.map(sns.scatterplot, \"age\", \"max heart rate\")\n",
    "plt.savefig(\"FacetGrid for Heart Condition vs. Multiple Variables.png\")\n",
    "plt.show()"
   ]
  },
  {
   "cell_type": "code",
   "execution_count": null,
   "id": "beffddff-0b2a-415f-a12a-a619fb9c748f",
   "metadata": {},
   "outputs": [],
   "source": [
    "g = sns.PairGrid(data, hue='target')\n",
    "g.map_diag(sns.histplot)\n",
    "g.map_offdiag(sns.scatterplot)\n",
    "plt.savefig(\"PairGrid for Multiple Variables\")\n",
    "plt.show()\n"
   ]
  },
  {
   "cell_type": "code",
   "execution_count": null,
   "id": "632307b1-2bc4-4f47-a3c6-8337e009d793",
   "metadata": {},
   "outputs": [],
   "source": []
  },
  {
   "cell_type": "code",
   "execution_count": null,
   "id": "50780d69-7ea6-41bd-882f-cbbf914961e9",
   "metadata": {},
   "outputs": [],
   "source": []
  }
 ],
 "metadata": {
  "kernelspec": {
   "display_name": "Python 3 (ipykernel)",
   "language": "python",
   "name": "python3"
  },
  "language_info": {
   "codemirror_mode": {
    "name": "ipython",
    "version": 3
   },
   "file_extension": ".py",
   "mimetype": "text/x-python",
   "name": "python",
   "nbconvert_exporter": "python",
   "pygments_lexer": "ipython3",
   "version": "3.11.0"
  }
 },
 "nbformat": 4,
 "nbformat_minor": 5
}
