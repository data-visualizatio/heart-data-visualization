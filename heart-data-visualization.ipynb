{
 "cells": [
  {
   "cell_type": "code",
   "execution_count": null,
   "id": "3a1c0fc9-357a-4fa2-b183-78dfdfae5911",
   "metadata": {},
   "outputs": [],
   "source": [
    "# the assignment code "
   ]
  },
  {
   "cell_type": "code",
   "execution_count": null,
   "id": "37789361-77e2-4f26-8773-95407ee97edb",
   "metadata": {},
   "outputs": [],
   "source": [
    "# import necccesary libraries\n",
    "import pandas as pd\n",
    "import matplotlib.pyplot as plt\n",
    "import seaborn as sns \n",
    "\n",
    "# load the assignment dataset\n"
   ]
  },
  {
   "cell_type": "markdown",
   "id": "aaab94e6-8c73-4492-a758-23eb685b16da",
   "metadata": {},
   "source": [
    "<!-- Exploratory Data Analyses -->"
   ]
  },
  {
   "cell_type": "code",
   "execution_count": null,
   "id": "47bab388-38f9-40a8-9c96-d94eec8c4a01",
   "metadata": {},
   "outputs": [],
   "source": [
    "data = pd.read_csv(\"heart_statlog_cleveland_hungary_final.csv\")\n",
    "#cleaning up data and checking for duplicates \n",
    "data.isnull().sum() \n",
    "data.head()\n",
    "data.info()\n"
   ]
  },
  {
   "cell_type": "code",
   "execution_count": null,
   "id": "d197597e-ea02-48c1-952b-9040c0508478",
   "metadata": {},
   "outputs": [],
   "source": [
    "# displaying the entire data set\n",
    "with pd.option_context('display.max_rows', None, 'display.max_columns', None):\n",
    "    display(data)"
   ]
  },
  {
   "cell_type": "code",
   "execution_count": null,
   "id": "4dab672a-5a4a-4c89-8d5d-9e88de0d1377",
   "metadata": {},
   "outputs": [],
   "source": [
    "# displaying some statistical data of the dataset\n",
    "data.describe() "
   ]
  },
  {
   "cell_type": "markdown",
   "id": "bfd260e6-1f8c-49e2-8b63-b7e78ece335e",
   "metadata": {},
   "source": [
    "<!-- ploting the visual graph -->"
   ]
  },
  {
   "cell_type": "code",
   "execution_count": null,
   "id": "e4d9cd5b-ee9d-492f-b84c-05edd9b31a6e",
   "metadata": {},
   "outputs": [],
   "source": [
    "plt.figure(figsize=(6,4))\n",
    "sns.countplot(x='sex', data=data)\n",
    "plt.title('Sex Distribution')\n",
    "plt.xlabel('Sex')\n",
    "plt.ylabel('Count')\n",
    "plt.savefig('Sex Distribution.png')\n",
    "plt.show()"
   ]
  },
  {
   "cell_type": "code",
   "execution_count": null,
   "id": "9b6cb480-5622-4f1e-af62-2f27595915ec",
   "metadata": {},
   "outputs": [],
   "source": [
    "plt.figure(figsize=(8,6))\n",
    "sns.countplot(x='chest pain type', data=data)\n",
    "plt.title('Chest Pain Type Distribution')\n",
    "plt.xlabel('Chest Pain Type')\n",
    "plt.savefig('Chest Pain Type Distribution.png')\n",
    "\n",
    "plt.ylabel('Count')\n",
    "\n",
    "plt.show()\n"
   ]
  },
  {
   "cell_type": "code",
   "execution_count": null,
   "id": "0150c199-911c-4327-bcbb-59a9a0461a59",
   "metadata": {},
   "outputs": [],
   "source": [
    "plt.figure(figsize=(6,4))\n",
    "sns.countplot(x='exercise angina', data=data)\n",
    "plt.title('Exercise Induced Angina Distribution')\n",
    "plt.xlabel('Exercise Induced Angina')\n",
    "plt.savefig('Exercise Induced Angina Distribution.png')\n",
    "\n",
    "plt.ylabel('Count')\n",
    "plt.show()\n"
   ]
  },
  {
   "cell_type": "code",
   "execution_count": null,
   "id": "3f4d9445-e79b-41fa-9757-2131aaaab803",
   "metadata": {},
   "outputs": [],
   "source": [
    "# getting the age distribution\n",
    "sns.histplot(x = \"age\",  data = data, kde=True, bins = 30)\n",
    "plt.title( \"age distribution in the data set\")\n",
    "plt.savefig(\"age distribution in the data set\")\n",
    "plt.show()"
   ]
  },
  {
   "cell_type": "code",
   "execution_count": null,
   "id": "f517d547-9ec7-4852-8500-4cfe7db75422",
   "metadata": {},
   "outputs": [],
   "source": [
    "plt.figure(figsize=(6,4))\n",
    "sns.countplot(x='resting ecg', data=data)\n",
    "plt.title('Resting Electrocardiogram Result Distribution')\n",
    "plt.xlabel('Resting Electrocardiogram Result')\n",
    "plt.ylabel('Count')\n",
    "plt.savefig(\"Resting Electrocardiogram Result\")\n",
    "plt.show()\n"
   ]
  },
  {
   "cell_type": "code",
   "execution_count": null,
   "id": "fbd4a7cd-8347-48d6-b073-6ed5bfc3e7b9",
   "metadata": {},
   "outputs": [],
   "source": [
    "plt.figure(figsize=(10,6))\n",
    "sns.histplot(data['max heart rate'], bins=20, kde=True)\n",
    "plt.title('Maximum Heart Rate Achieved Distribution')\n",
    "plt.xlabel('Maximum Heart Rate Achieved')\n",
    "plt.ylabel('Count')\n",
    "plt.savefig(\"Maximum Heart Rate Achieved\")\n",
    "plt.show()\n"
   ]
  },
  {
   "cell_type": "code",
   "execution_count": null,
   "id": "0f9307a6-bce1-4126-96fc-9648270dacda",
   "metadata": {},
   "outputs": [],
   "source": [
    "plt.figure(figsize=(6,4))\n",
    "sns.countplot(x='fasting blood sugar', data=data)\n",
    "plt.title('Fasting Blood Sugar Distribution')\n",
    "plt.xlabel('Fasting Blood Sugar')\n",
    "plt.ylabel('Count')\n",
    "plt.savefig(\"Fasting Blood Sugar Distribution\")\n",
    "plt.show()\n"
   ]
  },
  {
   "cell_type": "code",
   "execution_count": null,
   "id": "6dd82453-eddc-4c7a-bd61-c881a3e202c0",
   "metadata": {},
   "outputs": [],
   "source": [
    "plt.figure(figsize=(10,6))\n",
    "sns.histplot(data['cholesterol'], bins=20, kde=True)\n",
    "plt.title('Serum Cholesterol Distribution')\n",
    "plt.xlabel('Serum Cholesterol')\n",
    "plt.ylabel('Count')\n",
    "plt.savefig(\"Serum Cholesterol Distribution\")\n",
    "plt.show()\n"
   ]
  },
  {
   "cell_type": "code",
   "execution_count": null,
   "id": "740cef87-0990-4e19-8521-e314253cdfc5",
   "metadata": {},
   "outputs": [],
   "source": [
    "plt.figure(figsize=(10,6))\n",
    "sns.histplot(data['resting bp s'], bins=20, kde=True)\n",
    "plt.title('Resting Blood Pressure Distribution')\n",
    "plt.xlabel('Resting Blood Pressure')\n",
    "plt.ylabel('Count')\n",
    "plt.savefig(\"Resting Blood Pressure Distribution\")\n",
    "plt.show()\n"
   ]
  },
  {
   "cell_type": "code",
   "execution_count": null,
   "id": "6dc92484-bf3b-4f2c-9db2-237b455a819d",
   "metadata": {},
   "outputs": [],
   "source": [
    "# Scatter plot of Age vs. Maximum Heart Rate Achieved\n",
    "plt.figure(figsize=(8, 6))\n",
    "sns.scatterplot(x='age', y='max heart rate', data=data, hue = \"sex\")\n",
    "plt.title('Age vs. Maximum Heart Rate Achieved')\n",
    "plt.xlabel('Age')\n",
    "plt.ylabel('Maximum Heart Rate Achieved')\n",
    "plt.savefig(\"Age vs. Maximum Heart Rate Achieved.png\")\n",
    "plt.show()\n"
   ]
  },
  {
   "cell_type": "code",
   "execution_count": null,
   "id": "3ad3e811-cff8-4015-a225-85456f30d084",
   "metadata": {},
   "outputs": [],
   "source": [
    "sns.jointplot(data = data, x = \"age\", y = \"max heart rate\", kind = \"kde\", cmap = \"coolwarm\" )\n",
    "plt.savefig(\"a concentration visual of the max heart rate on the age distribution\")\n",
    "plt.show()"
   ]
  },
  {
   "cell_type": "code",
   "execution_count": null,
   "id": "1716762c-5f83-46a0-bd99-ced70ff63f73",
   "metadata": {},
   "outputs": [],
   "source": [
    "plt.figure(figsize=(8, 6))\n",
    "sns.regplot(x='age', y='max heart rate', data=data)\n",
    "plt.title('Age vs. Maximum Heart Rate Achieved')\n",
    "plt.xlabel('Age')\n",
    "plt.ylabel('Maximum Heart Rate Achieved')\n",
    "plt.savefig(\"Scatter plot with Regression Line.png\")\n",
    "plt.show()\n"
   ]
  },
  {
   "cell_type": "code",
   "execution_count": null,
   "id": "4b7c0378-d2b0-4138-bcfa-4f9fed414e42",
   "metadata": {},
   "outputs": [],
   "source": [
    "sns.jointplot(x='age', y='max heart rate', kind='hex', data=data)\n",
    "\n",
    "plt.savefig(\"jointplot with Hexbin for Age and Maximum Heart Rate Achieved\")\n",
    "plt.show()\n"
   ]
  },
  {
   "cell_type": "code",
   "execution_count": null,
   "id": "a35f5637-a576-4fd9-86ae-ab5c38a7a986",
   "metadata": {},
   "outputs": [],
   "source": [
    "g = sns.FacetGrid(data, col=\"sex\", hue=\"target\", height=5)\n",
    "g.map(sns.scatterplot, \"age\", \"max heart rate\", alpha=.7)\n",
    "g.add_legend()\n",
    "plt.title(\"FacetGrid for Heart Condition vs. Age and Sex\")\n",
    "plt.savefig(\"FacetGrid for Heart Condition vs. Age and Sex.png\")\n",
    "plt.show()\n"
   ]
  },
  {
   "cell_type": "code",
   "execution_count": null,
   "id": "888a6f7d-84e4-474d-b523-1d7fcceb3c60",
   "metadata": {},
   "outputs": [],
   "source": [
    "sns.barplot(data = data, x = \"resting ecg\", y = \"cholesterol\" )\n",
    "plt.title( \" A bar plot of cholesterol level to resting ecg\")\n",
    "plt.savefig(\"A bar plot of cholesterol level to resting ecg\")\n",
    "plt.show()"
   ]
  },
  {
   "cell_type": "code",
   "execution_count": null,
   "id": "58abd0b2-9009-4eae-bb84-c086108953d4",
   "metadata": {},
   "outputs": [],
   "source": [
    "# Violin plot of Chest Pain Type vs. Resting Blood Pressure\n",
    "plt.figure(figsize=(8, 6))\n",
    "sns.violinplot(x='chest pain type', y='resting bp s', data=data)\n",
    "plt.title('Chest Pain Type vs. Resting Blood Pressure')\n",
    "plt.xlabel('Chest Pain Type')\n",
    "plt.ylabel('Resting Blood Pressure')\n",
    "plt.savefig(\" Violin plot of Chest Pain Type vs. Resting Blood Pressure.png\")\n",
    "plt.show()"
   ]
  },
  {
   "cell_type": "code",
   "execution_count": null,
   "id": "fd51dd7b-ca3d-4239-a101-40b6bcd0a68b",
   "metadata": {},
   "outputs": [],
   "source": [
    "# Boxplot of Sex vs. Serum Cholesterol\n",
    "plt.figure(figsize=(8, 6))\n",
    "sns.boxplot(x='sex', y='cholesterol', data=data)\n",
    "plt.title('Sex vs. Serum Cholesterol')\n",
    "plt.xlabel('Sex') \n",
    "plt.ylabel('Serum Cholesterol')\n",
    "plt.savefig(\"Boxplot of Sex vs. Serum Cholesterol.png\")\n",
    "plt.show()"
   ]
  },
  {
   "cell_type": "code",
   "execution_count": null,
   "id": "d76da0b7-4f7e-43f2-9ccf-23d326273553",
   "metadata": {},
   "outputs": [],
   "source": [
    "plt.figure(figsize=(10, 8))\n",
    "sns.heatmap(data.corr(), annot=True, cmap='coolwarm', fmt=\".2f\")\n",
    "plt.title('Correlation Matrix Heatmap')\n",
    "plt.savefig(\"Correlation Matrix Heatmap\")\n",
    "plt.show()\n"
   ]
  },
  {
   "cell_type": "code",
   "execution_count": null,
   "id": "40bdad7b-3aff-4efe-a03c-402a4ee88f97",
   "metadata": {},
   "outputs": [],
   "source": [
    "plt.figure(figsize=(8, 6))\n",
    "sns.boxplot(x='chest pain type', y='target', data=data)\n",
    "plt.title('Heart Condition vs. Chest Pain Type')\n",
    "plt.xlabel('Chest Pain Type')\n",
    "plt.ylabel('Heart Condition')\n",
    "plt.savefig(\"Heart Condition vs. Chest Pain Type.png\")\n",
    "plt.show()\n"
   ]
  },
  {
   "cell_type": "code",
   "execution_count": null,
   "id": "d628177c-45d3-4735-925d-c5b0ef7621dc",
   "metadata": {},
   "outputs": [],
   "source": [
    "g = sns.FacetGrid(data, col=\"sex\", row=\"chest pain type\", hue=\"target\", height=3)\n",
    "g.map(sns.scatterplot, \"age\", \"max heart rate\")\n",
    "plt.savefig(\"FacetGrid for Heart Condition vs. Multiple Variables.png\")\n",
    "plt.show()"
   ]
  },
  {
   "cell_type": "code",
   "execution_count": null,
   "id": "d776425f-e660-4f3f-90dd-8b2a2747bd09",
   "metadata": {},
   "outputs": [],
   "source": []
  },
  {
   "cell_type": "code",
   "execution_count": null,
   "id": "2dd564bc-24ab-4ab4-b70b-a8e7dcb70e98",
   "metadata": {},
   "outputs": [],
   "source": [
    "sns.scatterplot(data = data, x = \"age\", y = \"max heart rate\", hue = \"chest pain type\", palette = \"coolwarm\" )\n",
    "plt.title( \" distribution of max heart rate of the chest pain types by age \")\n",
    "plt.savefig('distribution of max heart rate of the chest pain types by age.png')\n",
    "plt.show()"
   ]
  }
 ],
 "metadata": {
  "kernelspec": {
   "display_name": "Python 3 (ipykernel)",
   "language": "python",
   "name": "python3"
  },
  "language_info": {
   "codemirror_mode": {
    "name": "ipython",
    "version": 3
   },
   "file_extension": ".py",
   "mimetype": "text/x-python",
   "name": "python",
   "nbconvert_exporter": "python",
   "pygments_lexer": "ipython3",
   "version": "3.11.0"
  }
 },
 "nbformat": 4,
 "nbformat_minor": 5
}
